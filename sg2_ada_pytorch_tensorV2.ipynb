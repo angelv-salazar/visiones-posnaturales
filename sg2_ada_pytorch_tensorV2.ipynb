{
  "cells": [
    {
      "cell_type": "markdown",
      "metadata": {
        "id": "qZkTQZc7cMWN"
      },
      "source": [
        "# Entrenamiento personalizado: StyleGan2-ADA\n",
        "\n",
        "En este cuaderno, realizaremos el aprendizaje por transferencia con StyleGAN2 y conjuntos de datos personalizados.\n",
        "\n",
        "Esto significa que no entrenaremos a la red GAN con nuestras imágenes desde cero (ya que toma alrededor de dos semanas) pero usaremos el modelo ya entrenado en las otras imágenes como punto de partida. Reducirá el tiempo de entrenamiento a aproximadamente 10 horas al omitir las primeras etapas donde la red neuronal aprende características de bajo nivel de imágenes que son casi las mismas para cualquier tipo de imágenes."
      ]
    },
    {
      "cell_type": "code",
      "execution_count": null,
      "metadata": {
        "cellView": "form",
        "colab": {
          "base_uri": "https://localhost:8080/"
        },
        "id": "WOgc3AOiY6iU",
        "outputId": "c1bd5139-daca-4eef-807c-056f15a02e33"
      },
      "outputs": [
        {
          "output_type": "stream",
          "name": "stdout",
          "text": [
            "Mounted at /content/drive\n"
          ]
        }
      ],
      "source": [
        "#@title Montar Google Drive\n",
        "#@markdown Monte Google Drive para cargar las imágens de las bases de datos o los modelos previamente entrenados y guardar los resultados.\n",
        "\n",
        "from google.colab import drive\n",
        "drive.mount('/content/drive')"
      ]
    },
    {
      "cell_type": "code",
      "execution_count": null,
      "metadata": {
        "id": "G6nP8w7IZDpb",
        "cellView": "form"
      },
      "outputs": [],
      "source": [
        "#@title Instalación\n",
        "#@markdown StyleGAN2-ADA será instalada en su Google Drive para acelerar el proceso de entrenamiento.\n",
        "\n",
        "#@markdown Ejecute esta celda. Si ya ha instalado el repositorio, se omitirá el proceso de instalación y actualizará el directorio del repositorio. Si no lo ha instalado, instalará todos los archivos necesarios.\n",
        "import os\n",
        "if os.path.isdir(\"/content/drive/MyDrive/colab-sg2-ada-pytorch\"):\n",
        "    %cd \"/content/drive/MyDrive/colab-sg2-ada-pytorch/stylegan2-ada-pytorch\"\n",
        "elif os.path.isdir(\"/content/drive/\"):\n",
        "    #install script\n",
        "    %cd \"/content/drive/MyDrive/\"\n",
        "    !mkdir colab-sg2-ada-pytorch\n",
        "    %cd colab-sg2-ada-pytorch\n",
        "    !git clone https://github.com/angelv-salazar/stylegan2-ada-pytorch\n",
        "    %cd stylegan2-ada-pytorch\n",
        "    !mkdir downloads\n",
        "    !mkdir datasets\n",
        "    !mkdir pretrained\n",
        "    !gdown --id 1-5xZkD8ajXw1DdopTkH_rAoCsD72LhKU -O /content/drive/MyDrive/colab-sg2-ada-pytorch/stylegan2-ada-pytorch/pretrained/wikiart.pkl\n",
        "else:\n",
        "    !git clone https://github.com/angelv-salazar/stylegan2-ada-pytorch\n",
        "    %cd stylegan2-ada-pytorch\n",
        "    !mkdir downloads\n",
        "    !mkdir datasets\n",
        "    !mkdir pretrained\n",
        "    %cd pretrained\n",
        "    !gdown --id 1-5xZkD8ajXw1DdopTkH_rAoCsD72LhKU\n",
        "    %cd ../\n",
        "\n",
        "!pip uninstall jax jaxlib -y\n",
        "!pip install \"jax[cuda11_cudnn805]==0.3.10\" -f https://storage.googleapis.com/jax-releases/jax_cuda_releases.html\n",
        "!pip install torch==1.8.1 torchvision==0.9.1\n",
        "!git clone https://github.com/NVlabs/stylegan2-ada-pytorch.git\n",
        "!pip install ninja\n",
        "\n",
        "%cd \"/content/drive/My Drive/colab-sg2-ada-pytorch/stylegan2-ada-pytorch\"\n",
        "!git config --global user.name \"test\"\n",
        "!git config --global user.email \"test@test.com\"\n",
        "!git fetch origin\n",
        "!git pull\n",
        "!git stash\n",
        "!git checkout origin/main -- train.py generate.py legacy.py closed_form_factorization.py flesh_digression.py apply_factor.py README.md calc_metrics.py training/stylegan2_multi.py training/training_loop.py util/utilgan.py"
      ]
    },
    {
      "cell_type": "code",
      "execution_count": null,
      "metadata": {
        "cellView": "form",
        "colab": {
          "base_uri": "https://localhost:8080/"
        },
        "id": "-MgOcCseZqlA",
        "outputId": "b1036816-45da-41a2-cb0a-121e9a297865"
      },
      "outputs": [
        {
          "output_type": "stream",
          "name": "stdout",
          "text": [
            "100% 158/158 [00:02<00:00, 61.92it/s]\n"
          ]
        }
      ],
      "source": [
        "#@title Preparación de Datos\n",
        "#@markdown Directorio de entrada de Imágenes\n",
        "input_dir = '/content/drive/MyDrive/data/gan01/images' #@param {type: \"string\"}\n",
        "#@markdown Ruta al archivo *zip* donde se almacenará el *Dataset* convertido. Usted debe crearlo la primera vez.\n",
        "dataset_file = '/content/drive/MyDrive/data/gan01/verify.zip' #@param {type: \"string\"}\n",
        "\n",
        "if not dataset_file.endswith('.zip'):\n",
        "  dataset_file += '.zip'\n",
        "\n",
        "!python dataset_tool.py --source {input_dir} --dest {dataset_file}"
      ]
    },
    {
      "cell_type": "code",
      "execution_count": null,
      "metadata": {
        "cellView": "form",
        "id": "E25JTmDbZX1z"
      },
      "outputs": [],
      "source": [
        "#@title Entrenamiento de Modelo Personalizado\n",
        "\n",
        "#@markdown Ruta al archivo *zip* del *Dataset*\n",
        "dataset = \"/content/drive/MyDrive/data/gan01/verify.zip\" #@param {type: \"string\"}\n",
        "\n",
        "#@markdown Para el aprendizaje por transferencia, configúrelo en **ffhq256**, **ffhq512** o **ffhq1024** de acuerdo con la resolución de sus imágenes.\n",
        "#@markdown Si desea reanudar el proceso de capacitación, proporcione la ruta a su último archivo *.pkl*\n",
        "resume_from = \"ffhq512\" #@param {type: \"string\"}\n",
        "\n",
        "#don't edit this unless you know what you're doing :)\n",
        "!python train.py --outdir ./results --snap=1 --cfg='11gb-gpu' --data={dataset} --aug=noaug --mirror=False --mirrory=False --metrics=None --resume={resume_from}"
      ]
    },
    {
      "cell_type": "markdown",
      "metadata": {
        "id": "GwPrEVh5coPf"
      },
      "source": [
        "### Mientras se está entrenando...\n",
        "**Una vez que la celda anterior se esté ejecutando, ¡debería estar entrenando!**\n",
        "\n",
        "¡No cierre esta pestaña! Colab debe estar abierto y en funcionamiento para poder seguir entrenando.\n",
        "\n",
        "Cada 40 minutos más o menos debería añadirse una nueva línea a su salida, indicando que todavía está entrenando. Dependiendo de su configuración de `snapshot_count`, debería ver la carpeta de resultados (`/content/drive/MyDrive/colab-sg2-ada/stylegan2-ada/results`) en su carpeta de Google drive llenándose con ambas muestras (`fakesXXXXXx.jpg`) y *model weights* (pesos del modelo) (`network-snapshot-XXXXXX.pkl`). Vale la pena mirar las muestras mientras se entrena, pero no se preocupe demasiado por cada muestra individual.\n",
        "\n",
        "Una vez que Colab se apaga, puede volver a conectarse en el alojamiento y volver a ejecutar cada celda de arriba a abajo. Asegúrese de actualizar la ruta `resume_from` para continuar entrenando desde el último modelo."
      ]
    }
  ],
  "metadata": {
    "accelerator": "GPU",
    "colab": {
      "collapsed_sections": [
        "GwPrEVh5coPf"
      ],
      "machine_shape": "hm",
      "provenance": []
    },
    "kernelspec": {
      "display_name": "Python 3",
      "name": "python3"
    },
    "language_info": {
      "name": "python"
    }
  },
  "nbformat": 4,
  "nbformat_minor": 0
}